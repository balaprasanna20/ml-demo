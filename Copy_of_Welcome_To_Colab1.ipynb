{
  "cells": [
    {
      "cell_type": "markdown",
      "metadata": {
        "id": "view-in-github",
        "colab_type": "text"
      },
      "source": [
        "<a href=\"https://colab.research.google.com/github/balaprasanna20/ml-demo/blob/main/Copy_of_Welcome_To_Colab1.ipynb\" target=\"_parent\"><img src=\"https://colab.research.google.com/assets/colab-badge.svg\" alt=\"Open In Colab\"/></a>"
      ]
    },
    {
      "cell_type": "code",
      "source": [
        "x=10\n",
        "a=[1,\"hello\",]\n",
        "b=(2,\"python\")\n",
        "c={3,\"word\"}\n",
        "print(x)\n",
        "print(a)\n",
        "print(b)\n",
        "print(c)"
      ],
      "metadata": {
        "colab": {
          "base_uri": "https://localhost:8080/"
        },
        "id": "sPWTdihNMFl2",
        "outputId": "933c018d-b8e6-4077-cee7-7a5a187887e5"
      },
      "execution_count": null,
      "outputs": [
        {
          "output_type": "stream",
          "name": "stdout",
          "text": [
            "10\n",
            "[1, 'hello']\n",
            "(2, 'python')\n",
            "{'word', 3}\n"
          ]
        }
      ]
    },
    {
      "cell_type": "code",
      "source": [
        "n=10\n",
        "if n%2==0:\n",
        "  print(\"number is even\")\n",
        "else:\n",
        "  print(\"number is odd\")\n"
      ],
      "metadata": {
        "colab": {
          "base_uri": "https://localhost:8080/"
        },
        "id": "zpGSt70qMw1J",
        "outputId": "261dc434-089d-48a8-e19d-3fb6f93b5cfa"
      },
      "execution_count": null,
      "outputs": [
        {
          "output_type": "stream",
          "name": "stdout",
          "text": [
            "number is even\n"
          ]
        }
      ]
    },
    {
      "cell_type": "code",
      "source": [
        "for i in range(1,11):\n",
        "  print(i,\"*5=\",i*5)"
      ],
      "metadata": {
        "colab": {
          "base_uri": "https://localhost:8080/"
        },
        "id": "lVFS82gWNwaJ",
        "outputId": "0e18733f-2c54-453c-ce20-8e48c0b95e7c"
      },
      "execution_count": null,
      "outputs": [
        {
          "output_type": "stream",
          "name": "stdout",
          "text": [
            "1 *5= 5\n",
            "2 *5= 10\n",
            "3 *5= 15\n",
            "4 *5= 20\n",
            "5 *5= 25\n",
            "6 *5= 30\n",
            "7 *5= 35\n",
            "8 *5= 40\n",
            "9 *5= 45\n",
            "10 *5= 50\n"
          ]
        }
      ]
    },
    {
      "cell_type": "code",
      "source": [
        "count = 0\n",
        "while count < 5:\n",
        "  print(count)\n",
        "  count+=1\n"
      ],
      "metadata": {
        "colab": {
          "base_uri": "https://localhost:8080/"
        },
        "id": "4K_BHdjvOul8",
        "outputId": "f4688c88-54c3-45a4-d897-a091b029f0a4"
      },
      "execution_count": null,
      "outputs": [
        {
          "output_type": "stream",
          "name": "stdout",
          "text": [
            "0\n",
            "1\n",
            "2\n",
            "3\n",
            "4\n"
          ]
        }
      ]
    },
    {
      "cell_type": "code",
      "source": [
        "def find_day(month):\n",
        "  match month:\n",
        "    case 1:\n",
        "      print(\"january\")\n",
        "    case 2:\n",
        "      print(\"feburary\")\n",
        "    case 3:\n",
        "      print(\"march\")\n",
        "    case 4:\n",
        "      print(\"april\")\n",
        "    case 5:\n",
        "      print(\"may\")\n",
        "    case _:\n",
        "      print(\"invalid month\")\n",
        "find_day(8)\n",
        "\n",
        "\n"
      ],
      "metadata": {
        "colab": {
          "base_uri": "https://localhost:8080/"
        },
        "id": "rCt-n6zVRHtK",
        "outputId": "04861cf7-91fa-4827-b331-a264e916dc5d"
      },
      "execution_count": null,
      "outputs": [
        {
          "output_type": "stream",
          "name": "stdout",
          "text": [
            "invalid month\n"
          ]
        }
      ]
    },
    {
      "cell_type": "code",
      "source": [
        "userid=[1,2,3]\n",
        "enteruserid=int(input(\"enter the userid\"))\n",
        "if enteruserid in userid:\n",
        "  print(\"userid\")\n",
        "else:\n",
        "  print(\"invalid user\")\n"
      ],
      "metadata": {
        "colab": {
          "base_uri": "https://localhost:8080/"
        },
        "id": "-wfIGQ6aUb02",
        "outputId": "462728c1-15ec-4142-b31d-213111245bc7"
      },
      "execution_count": null,
      "outputs": [
        {
          "output_type": "stream",
          "name": "stdout",
          "text": [
            "enter the userid7\n",
            "invalid user\n"
          ]
        }
      ]
    },
    {
      "cell_type": "code",
      "source": [
        "a=int(input(\"enter the first number\"))\n",
        "if sum > 9:\n",
        "  string_sum=str(sum)\n",
        "  first_num=int(string_sum[0])\n",
        "  second_num=int(string_sum[1])\n",
        "  result=(first_num+second_num)\n",
        "  print(result)\n"
      ],
      "metadata": {
        "id": "BBBYZ93vaZyc"
      },
      "execution_count": null,
      "outputs": []
    },
    {
      "cell_type": "code",
      "source": [
        "a=int(input(\"enter the first number\"))\n",
        "if a>9:\n",
        "  string_sum=str(a)\n",
        "  first_num=int(string_sum[0])\n",
        "  second_num=int(string_sum[1])\n",
        "  result=(first_num+second_num)\n",
        "  print(result)\n",
        "\n"
      ],
      "metadata": {
        "id": "WZzL93N_b7-k",
        "outputId": "a89e580a-4639-432f-e3c8-9ff822a3b17d",
        "colab": {
          "base_uri": "https://localhost:8080/"
        }
      },
      "execution_count": null,
      "outputs": [
        {
          "output_type": "stream",
          "name": "stdout",
          "text": [
            "enter the first number81\n",
            "9\n"
          ]
        }
      ]
    },
    {
      "cell_type": "code",
      "source": [
        "a=int(input(\"enter the number\"))\n",
        "count=0\n",
        "for i in str(a):\n",
        " count=count+1\n",
        "print(count)"
      ],
      "metadata": {
        "colab": {
          "base_uri": "https://localhost:8080/"
        },
        "id": "B8JNwa3hqBd5",
        "outputId": "720f24fa-de87-44ee-d1d3-a39ea9f4f919"
      },
      "execution_count": 14,
      "outputs": [
        {
          "output_type": "stream",
          "name": "stdout",
          "text": [
            "enter the number4567\n",
            "4\n"
          ]
        }
      ]
    },
    {
      "cell_type": "code",
      "source": [
        "import pandas as pd\n",
        "df=pd.read_excel(\"/ml dataset.xlsx\")\n",
        "df\n",
        "print(df.head())"
      ],
      "metadata": {
        "colab": {
          "base_uri": "https://localhost:8080/"
        },
        "id": "MgzGtN2ktrpa",
        "outputId": "651b7aec-430d-49d9-abbc-b14c26ff2aa4"
      },
      "execution_count": 23,
      "outputs": [
        {
          "output_type": "stream",
          "name": "stdout",
          "text": [
            "   Unnamed: 0  Unnamed: 1  S.NO PATEITENT NAME  GENDER    PHONE.NO BLOOD GRP  \\\n",
            "0         NaN         NaN     1         Afrith    male   897654538      b+ve   \n",
            "1         NaN         NaN     2      deepak .p    male  9988776437      o+ve   \n",
            "2         NaN         NaN     3         swetha  female  9899765434      b+ve   \n",
            "3         NaN         NaN     4           arun    male  9876548765      a+ve   \n",
            "4         NaN         NaN     5           bala    male  9999876254      a+ve   \n",
            "\n",
            "   ADDRESS  GUARDIAN   GUARDIAN.PHNO      DOCTOR NAME   OPERATION NAME  \\\n",
            "0  chennai    deepak      9876545679   bala saravanan    heart surgery   \n",
            "1  chennai    madani      9876545680      ajith kumar      leg surgery   \n",
            "2  chennai  santhosh      9876545681        brad pitt  plastic surgery   \n",
            "3  chennai     aruna      9876545682       tom cruise    brain surgery   \n",
            "4  chennai  sunandha      9876545683  chris hemswroth        fracture    \n",
            "\n",
            "        DATE  OPERATION COST CASH OR GPAY  \n",
            "0 2025-07-18           20000         cash  \n",
            "1 2025-07-19           20001         gpay  \n",
            "2 2025-07-20           20002         gpay  \n",
            "3 2025-07-21           20003         gpay  \n",
            "4 2025-07-22           20004         gpay  \n"
          ]
        }
      ]
    },
    {
      "cell_type": "code",
      "source": [
        "print(df.tail())"
      ],
      "metadata": {
        "colab": {
          "base_uri": "https://localhost:8080/"
        },
        "id": "hs6kpkqswTwy",
        "outputId": "a5911333-1f70-4e99-d09f-3c6e3a4c259f"
      },
      "execution_count": 24,
      "outputs": [
        {
          "output_type": "stream",
          "name": "stdout",
          "text": [
            "    Unnamed: 0  Unnamed: 1  S.NO    PATEITENT NAME GENDER    PHONE.NO  \\\n",
            "45         NaN         NaN    46              bala   male  9999876262   \n",
            "46         NaN         NaN    47          prasanna   male  9999876262   \n",
            "47         NaN         NaN    48  lokesh kanagraj'   male  9999876262   \n",
            "48         NaN         NaN    49             nolan   male  9999876262   \n",
            "49         NaN         NaN    50     david fincher   male  9999876262   \n",
            "\n",
            "   BLOOD GRP  ADDRESS GUARDIAN   GUARDIAN.PHNO DOCTOR NAME OPERATION NAME  \\\n",
            "45      b+ve  chennai  keerthi      9876545724   johanthan    eye surgery   \n",
            "46      b+ve  chennai  keerthi      9876545725   johanthan    eye surgery   \n",
            "47      b+ve  chennai  keerthi      9876545726   johanthan    eye surgery   \n",
            "48      b+ve  chennai  keerthi      9876545727   johanthan    eye surgery   \n",
            "49      b+ve  chennai  keerthi      9876545728   johanthan    eye surgery   \n",
            "\n",
            "         DATE  OPERATION COST CASH OR GPAY  \n",
            "45 2025-09-01           20045         gpay  \n",
            "46 2025-09-02           20046         gpay  \n",
            "47 2025-09-03           20047         gpay  \n",
            "48 2025-09-04           20048         gpay  \n",
            "49 2025-09-05           20049         gpay  \n"
          ]
        }
      ]
    },
    {
      "cell_type": "code",
      "source": [
        "print(df.info())"
      ],
      "metadata": {
        "colab": {
          "base_uri": "https://localhost:8080/"
        },
        "id": "mmCjsAjCwfDV",
        "outputId": "19cfdb3b-9b68-496f-c91c-e413581f7e2c"
      },
      "execution_count": 25,
      "outputs": [
        {
          "output_type": "stream",
          "name": "stdout",
          "text": [
            "<class 'pandas.core.frame.DataFrame'>\n",
            "RangeIndex: 50 entries, 0 to 49\n",
            "Data columns (total 15 columns):\n",
            " #   Column          Non-Null Count  Dtype         \n",
            "---  ------          --------------  -----         \n",
            " 0   Unnamed: 0      0 non-null      float64       \n",
            " 1   Unnamed: 1      0 non-null      float64       \n",
            " 2   S.NO            50 non-null     int64         \n",
            " 3   PATEITENT NAME  50 non-null     object        \n",
            " 4   GENDER          50 non-null     object        \n",
            " 5   PHONE.NO        50 non-null     int64         \n",
            " 6   BLOOD GRP       50 non-null     object        \n",
            " 7   ADDRESS         50 non-null     object        \n",
            " 8   GUARDIAN        50 non-null     object        \n",
            " 9    GUARDIAN.PHNO  50 non-null     int64         \n",
            " 10  DOCTOR NAME     50 non-null     object        \n",
            " 11  OPERATION NAME  50 non-null     object        \n",
            " 12  DATE            50 non-null     datetime64[ns]\n",
            " 13  OPERATION COST  50 non-null     int64         \n",
            " 14  CASH OR GPAY    50 non-null     object        \n",
            "dtypes: datetime64[ns](1), float64(2), int64(4), object(8)\n",
            "memory usage: 6.0+ KB\n",
            "None\n"
          ]
        }
      ]
    },
    {
      "cell_type": "code",
      "source": [
        "print(df.describe())"
      ],
      "metadata": {
        "colab": {
          "base_uri": "https://localhost:8080/"
        },
        "id": "w84bd8oCwo3E",
        "outputId": "a67a6e2b-dfa7-4fe1-bde8-04444efc4a4d"
      },
      "execution_count": 26,
      "outputs": [
        {
          "output_type": "stream",
          "name": "stdout",
          "text": [
            "       Unnamed: 0  Unnamed: 1      S.NO      PHONE.NO   GUARDIAN.PHNO  \\\n",
            "count         0.0         0.0  50.00000  5.000000e+01    5.000000e+01   \n",
            "mean          NaN         NaN  25.50000  9.813141e+09    9.876546e+09   \n",
            "min           NaN         NaN   1.00000  8.976545e+08    9.876546e+09   \n",
            "25%           NaN         NaN  13.25000  9.999876e+09    9.876546e+09   \n",
            "50%           NaN         NaN  25.50000  9.999876e+09    9.876546e+09   \n",
            "75%           NaN         NaN  37.75000  9.999876e+09    9.876546e+09   \n",
            "max           NaN         NaN  50.00000  9.999876e+09    9.876546e+09   \n",
            "std           NaN         NaN  14.57738  1.286764e+09    1.457738e+01   \n",
            "\n",
            "                      DATE  OPERATION COST  \n",
            "count                   50        50.00000  \n",
            "mean   2025-08-11 12:00:00     20024.50000  \n",
            "min    2025-07-18 00:00:00     20000.00000  \n",
            "25%    2025-07-30 06:00:00     20012.25000  \n",
            "50%    2025-08-11 12:00:00     20024.50000  \n",
            "75%    2025-08-23 18:00:00     20036.75000  \n",
            "max    2025-09-05 00:00:00     20049.00000  \n",
            "std                    NaN        14.57738  \n"
          ]
        }
      ]
    },
    {
      "cell_type": "markdown",
      "source": [],
      "metadata": {
        "id": "ovdUOV-Z0bcz"
      }
    },
    {
      "cell_type": "code",
      "source": [
        "mean_value=df[\"PHONE.NO\"].mean()\n",
        "print(\"mean:\",mean_value)"
      ],
      "metadata": {
        "colab": {
          "base_uri": "https://localhost:8080/"
        },
        "id": "Yst5IDqLxAWU",
        "outputId": "7404198e-36e3-4cf2-989c-0efe2872b0ef"
      },
      "execution_count": 33,
      "outputs": [
        {
          "output_type": "stream",
          "name": "stdout",
          "text": [
            "mean: 9813141063.8\n"
          ]
        }
      ]
    },
    {
      "cell_type": "code",
      "source": [
        "std_value=df['OPERATION COST'].std()\n",
        "print(\"standard deviation\",std_value)"
      ],
      "metadata": {
        "colab": {
          "base_uri": "https://localhost:8080/"
        },
        "id": "MNSpeDiKyyxK",
        "outputId": "b6a148e9-e57e-44a4-a982-2c0bec26904a"
      },
      "execution_count": 35,
      "outputs": [
        {
          "output_type": "stream",
          "name": "stdout",
          "text": [
            "standard deviation 14.577379737113251\n"
          ]
        }
      ]
    },
    {
      "cell_type": "code",
      "source": [
        "median_value=df['DATE'].median()\n",
        "print(\"median:\",median_value)"
      ],
      "metadata": {
        "colab": {
          "base_uri": "https://localhost:8080/"
        },
        "id": "Xrn8GzO5yXGo",
        "outputId": "6a9c91d7-6331-4f04-fbb1-c01bcafdad44"
      },
      "execution_count": 34,
      "outputs": [
        {
          "output_type": "stream",
          "name": "stdout",
          "text": [
            "median: 2025-08-11 12:00:00\n"
          ]
        }
      ]
    }
  ],
  "metadata": {
    "colab": {
      "provenance": [],
      "include_colab_link": true
    },
    "kernelspec": {
      "display_name": "Python 3",
      "name": "python3"
    }
  },
  "nbformat": 4,
  "nbformat_minor": 0
}