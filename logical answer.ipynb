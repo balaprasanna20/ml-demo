{
  "cells": [
    {
      "cell_type": "markdown",
      "metadata": {
        "id": "view-in-github",
        "colab_type": "text"
      },
      "source": [
        "<a href=\"https://colab.research.google.com/github/balaprasanna20/ml-demo/blob/main/logical%20answer.ipynb\" target=\"_parent\"><img src=\"https://colab.research.google.com/assets/colab-badge.svg\" alt=\"Open In Colab\"/></a>"
      ]
    },
    {
      "cell_type": "code",
      "source": [
        "a=15\n",
        "b=9\n",
        "\n",
        "combined_work_rate= 1/a + 1/b\n",
        "time_together =1 /combined_work_rate\n",
        "\n",
        "print(time_together)"
      ],
      "metadata": {
        "id": "6uy0eZ4WJKef",
        "outputId": "d6119fc5-a070-4325-e02f-aca678ed2397",
        "colab": {
          "base_uri": "https://localhost:8080/"
        }
      },
      "execution_count": 60,
      "outputs": [
        {
          "output_type": "stream",
          "name": "stdout",
          "text": [
            "5.625000000000001\n"
          ]
        }
      ]
    },
    {
      "cell_type": "code",
      "source": [
        "total_distances=240\n",
        "speed=20\n",
        "\n",
        "hours_to_cover_the_distances=total_distances/speed\n",
        "print(int(hours_to_cover_the_distances),\"hrs\")"
      ],
      "metadata": {
        "id": "oI3mQ5AVJskL",
        "outputId": "2654012c-064a-4bd6-c356-a7737ecc5e02",
        "colab": {
          "base_uri": "https://localhost:8080/"
        }
      },
      "execution_count": 61,
      "outputs": [
        {
          "output_type": "stream",
          "name": "stdout",
          "text": [
            "12 hrs\n"
          ]
        }
      ]
    },
    {
      "cell_type": "code",
      "source": [
        "a=8\n",
        "b=12\n",
        "c=24\n",
        "\n",
        "combined_work_rate= 1/a + 1/b - 1/c\n",
        "time_together =1 /combined_work_rate\n",
        "\n",
        "print(int(time_together),\"hrs\")"
      ],
      "metadata": {
        "id": "e8Q0tnwxJvty",
        "outputId": "8d17e94a-36c8-4a86-cab6-7842a31e1e93",
        "colab": {
          "base_uri": "https://localhost:8080/"
        }
      },
      "execution_count": 62,
      "outputs": [
        {
          "output_type": "stream",
          "name": "stdout",
          "text": [
            "6 hrs\n"
          ]
        }
      ]
    },
    {
      "cell_type": "code",
      "source": [
        "p1=1.08\n",
        "p2=1.12\n",
        "\n",
        "p0=50000/(1.08*1.12)\n",
        "\n",
        "print(\"the current population is:\",round(p0))"
      ],
      "metadata": {
        "id": "N8XwsfxJJ00b",
        "outputId": "acc21621-2db3-4a03-c2d7-9dc3d41bd36b",
        "colab": {
          "base_uri": "https://localhost:8080/"
        }
      },
      "execution_count": 63,
      "outputs": [
        {
          "output_type": "stream",
          "name": "stdout",
          "text": [
            "the current population is: 41336\n"
          ]
        }
      ]
    },
    {
      "cell_type": "code",
      "source": [
        "buy_product=800\n",
        "\n",
        "sold_product=960\n",
        "\n",
        "profit=sold_product-buy_product\n",
        "\n",
        "print(\"the profit is:\",profit)"
      ],
      "metadata": {
        "id": "Ts-qvaebJ23K",
        "outputId": "f0a5fa72-1d5e-4492-80a3-ff150fdb0fa7",
        "colab": {
          "base_uri": "https://localhost:8080/"
        }
      },
      "execution_count": 64,
      "outputs": [
        {
          "output_type": "stream",
          "name": "stdout",
          "text": [
            "the profit is: 160\n"
          ]
        }
      ]
    },
    {
      "cell_type": "code",
      "source": [
        "student_scored=480\n",
        "failed_by=20\n",
        "\n",
        "pass_percentage=50/100\n",
        "\n",
        "total_marks=(student_scored+failed_by)/pass_percentage\n",
        "print(\"total marks\",int(total_marks))"
      ],
      "metadata": {
        "id": "RnEX7QebJ9z5",
        "outputId": "4bfbdd04-1f43-4f7c-8edf-9ff0141e7771",
        "colab": {
          "base_uri": "https://localhost:8080/"
        }
      },
      "execution_count": 65,
      "outputs": [
        {
          "output_type": "stream",
          "name": "stdout",
          "text": [
            "total marks 1000\n"
          ]
        }
      ]
    },
    {
      "cell_type": "code",
      "source": [
        "after_12_percent_increases_the_price=2240\n",
        "\n",
        "original_price=after_12_percent_increases_the_price/1.12\n",
        "\n",
        "print(\"the original price is:\",round(original_price))"
      ],
      "metadata": {
        "id": "KxDrH3M1KMVt",
        "outputId": "e9ad369a-3e0e-4a3f-c01a-239b858923d9",
        "colab": {
          "base_uri": "https://localhost:8080/"
        }
      },
      "execution_count": 66,
      "outputs": [
        {
          "output_type": "stream",
          "name": "stdout",
          "text": [
            "the original price is: 2000\n"
          ]
        }
      ]
    }
  ],
  "metadata": {
    "colab": {
      "name": "Welcome To Colab",
      "toc_visible": true,
      "provenance": [],
      "include_colab_link": true
    },
    "kernelspec": {
      "display_name": "Python 3",
      "name": "python3"
    }
  },
  "nbformat": 4,
  "nbformat_minor": 0
}